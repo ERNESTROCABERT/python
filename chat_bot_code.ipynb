{
 "cells": [
  {
   "cell_type": "code",
   "execution_count": null,
   "id": "a33a677f-fbe6-49b2-8fee-7e3339d1daaf",
   "metadata": {},
   "outputs": [],
   "source": [
    "!pip install requests flask"
   ]
  },
  {
   "cell_type": "code",
   "execution_count": 11,
   "id": "7afa6a27-e70b-47c2-8ec3-8f0146b7e1e0",
   "metadata": {},
   "outputs": [
    {
     "data": {
      "text/plain": [
       "{'documents': [{'id': '1',\n",
       "   'sentiment': 'positive',\n",
       "   'confidenceScores': {'positive': 1.0, 'neutral': 0.0, 'negative': 0.0},\n",
       "   'sentences': [{'sentiment': 'positive',\n",
       "     'confidenceScores': {'positive': 1.0, 'neutral': 0.0, 'negative': 0.0},\n",
       "     'offset': 0,\n",
       "     'length': 46,\n",
       "     'text': 'I love learning about AI and machine learning!'}],\n",
       "   'warnings': []}],\n",
       " 'errors': [],\n",
       " 'modelVersion': 'latest'}"
      ]
     },
     "metadata": {},
     "output_type": "display_data"
    }
   ],
   "source": [
    "import requests\n",
    "\n",
    "# Replace these with your own Azure keys and endpoint\n",
    "subscription_key = \"3c4c14d75f65421fab9e07920b8dea82\"\n",
    "endpoint = \"https://wus2-computevm01.cognitiveservices.azure.com/\"\n",
    "\n",
    "# Function to call Text Analytics API\n",
    "def analyze_text(input_text):\n",
    "    url = f\"{endpoint}/text/analytics/v3.1/sentiment\"\n",
    "    headers = {\n",
    "        'Ocp-Apim-Subscription-Key': subscription_key,\n",
    "        'Content-Type': 'application/json'\n",
    "    }\n",
    "    documents = {\n",
    "        'documents': [\n",
    "            {'id': '1', 'language': 'en', 'text': input_text}\n",
    "        ]\n",
    "    }\n",
    "    response = requests.post(url, headers=headers, json=documents)\n",
    "    return response.json()\n",
    "\n",
    "# Test the function\n",
    "result = analyze_text(\"I love learning about AI and machine learning!\")\n",
    "display(result)\n"
   ]
  },
  {
   "cell_type": "code",
   "execution_count": 12,
   "id": "320ef298-c8cb-41e2-92c2-c71e9b492a24",
   "metadata": {},
   "outputs": [
    {
     "name": "stdout",
     "output_type": "stream",
     "text": [
      " * Serving Flask app '__main__'\n",
      " * Debug mode: on\n"
     ]
    },
    {
     "name": "stderr",
     "output_type": "stream",
     "text": [
      "WARNING: This is a development server. Do not use it in a production deployment. Use a production WSGI server instead.\n",
      " * Running on http://127.0.0.1:5000\n",
      "Press CTRL+C to quit\n",
      " * Restarting with watchdog (windowsapi)\n"
     ]
    },
    {
     "ename": "SystemExit",
     "evalue": "1",
     "output_type": "error",
     "traceback": [
      "An exception has occurred, use %tb to see the full traceback.\n",
      "\u001b[1;31mSystemExit\u001b[0m\u001b[1;31m:\u001b[0m 1\n"
     ]
    }
   ],
   "source": [
    "from flask import Flask, render_template, request, jsonify\n",
    "import requests\n",
    "\n",
    "app = Flask(__name__)\n",
    "\n",
    "# Azure keys and endpoint\n",
    "subscription_key = \"3c4c14d75f65421fab9e07920b8dea82\"\n",
    "endpoint = \"https://wus2-computevm01.cognitiveservices.azure.com/\"\n",
    "\n",
    "# Function to call Azure Cognitive Service (Text Analytics)\n",
    "def analyze_text(input_text):\n",
    "    url = f\"{endpoint}/text/analytics/v3.1/sentiment\"\n",
    "    headers = {\n",
    "        'Ocp-Apim-Subscription-Key': subscription_key,\n",
    "        'Content-Type': 'application/json'\n",
    "    }\n",
    "    documents = {\n",
    "        'documents': [\n",
    "            {'id': '1', 'language': 'en', 'text': input_text}\n",
    "        ]\n",
    "    }\n",
    "    response = requests.post(url, headers=headers, json=documents)\n",
    "    return response.json()\n",
    "\n",
    "# Flask route for chatbot\n",
    "@app.route(\"/\", methods=[\"GET\", \"POST\"])\n",
    "def chatbot():\n",
    "    if request.method == \"POST\":\n",
    "        user_input = request.form[\"message\"]\n",
    "        response = analyze_text(user_input)  # Get response from Azure\n",
    "        sentiment = response['documents'][0]['sentiment']\n",
    "        return jsonify({\"response\": f\"The sentiment is {sentiment}.\"})\n",
    "\n",
    "    return render_template(\"index.html\")\n",
    "\n",
    "# Run the app\n",
    "if __name__ == \"__main__\":\n",
    "    app.run(debug=True)\n"
   ]
  },
  {
   "cell_type": "code",
   "execution_count": 27,
   "id": "bccbf424-0ac4-483b-94cd-600e87205c54",
   "metadata": {},
   "outputs": [
    {
     "name": "stdout",
     "output_type": "stream",
     "text": [
      " * Serving Flask app '__main__'\n",
      " * Debug mode: on\n"
     ]
    },
    {
     "name": "stderr",
     "output_type": "stream",
     "text": [
      "WARNING: This is a development server. Do not use it in a production deployment. Use a production WSGI server instead.\n",
      " * Running on http://127.0.0.1:5001\n",
      "Press CTRL+C to quit\n",
      " * Restarting with watchdog (windowsapi)\n"
     ]
    },
    {
     "ename": "SystemExit",
     "evalue": "1",
     "output_type": "error",
     "traceback": [
      "An exception has occurred, use %tb to see the full traceback.\n",
      "\u001b[1;31mSystemExit\u001b[0m\u001b[1;31m:\u001b[0m 1\n"
     ]
    }
   ],
   "source": [
    "app.run(debug=True, port=5001)\n"
   ]
  },
  {
   "cell_type": "code",
   "execution_count": null,
   "id": "d7a67765-a28f-4109-b086-d50d5a9b1a3a",
   "metadata": {},
   "outputs": [],
   "source": []
  }
 ],
 "metadata": {
  "kernelspec": {
   "display_name": "Python 3 (ipykernel)",
   "language": "python",
   "name": "python3"
  },
  "language_info": {
   "codemirror_mode": {
    "name": "ipython",
    "version": 3
   },
   "file_extension": ".py",
   "mimetype": "text/x-python",
   "name": "python",
   "nbconvert_exporter": "python",
   "pygments_lexer": "ipython3",
   "version": "3.11.7"
  }
 },
 "nbformat": 4,
 "nbformat_minor": 5
}
